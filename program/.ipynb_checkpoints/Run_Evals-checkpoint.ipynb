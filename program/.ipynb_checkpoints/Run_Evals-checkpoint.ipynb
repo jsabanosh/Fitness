{
 "cells": [
  {
   "cell_type": "code",
   "execution_count": 2,
   "metadata": {},
   "outputs": [],
   "source": [
    "import pandas as pd\n",
    "import numpy as np\n",
    "import json\n",
    "from matplotlib import pyplot as plt\n",
    "import os"
   ]
  },
  {
   "cell_type": "code",
   "execution_count": null,
   "metadata": {},
   "outputs": [],
   "source": [
    "paths = os.listdir('../data/raw')"
   ]
  },
  {
   "cell_type": "code",
   "execution_count": null,
   "metadata": {},
   "outputs": [],
   "source": [
    "mile = 1609.344\n",
    "mult_list = [0.025, 0.05, 0.1, 0.25, 0.5, 0.75, 1, 1.5, 2, 3, 3.11]\n",
    "lod = []\n",
    "\n",
    "for path in paths:\n",
    "    with open('../data/raw/' + path) as f:\n",
    "        data = json.load(f)\n",
    "        \n",
    "    points = data['laps'][0]['points']\n",
    "    df = pd.DataFrame(points)\n",
    "    df.interpolate(method='linear', limit_direction='both', axis=0, inplace=True)\n",
    "    max_dist = df.dist.max()\n",
    "    time_dict = {}\n",
    "    time_dict['date'] = path[:10]\n",
    "    \n",
    "    for mult in mult_list:\n",
    "        dist = mile * mult\n",
    "        dist_times = []\n",
    "        if max(df.dist) - dist > 0:\n",
    "            for tup in df.itertuples():\n",
    "                if tup.dist < max_dist-dist:\n",
    "                    roll_dist = tup.dist + dist\n",
    "                    index = abs(df.dist - roll_dist).idxmin()\n",
    "\n",
    "                    dist_time = df.iloc[index].time - tup.time\n",
    "                    dist_times.append(dist_time)\n",
    "\n",
    "            time_spec = min(dist_times)/60/mult\n",
    "\n",
    "            time_dict[mult] = time_spec\n",
    "    lod.append(time_dict.copy())\n",
    "    print(path[:10])"
   ]
  },
  {
   "cell_type": "code",
   "execution_count": null,
   "metadata": {},
   "outputs": [],
   "source": [
    "wos = pd.DataFrame(lod)"
   ]
  },
  {
   "cell_type": "code",
   "execution_count": null,
   "metadata": {
    "scrolled": false
   },
   "outputs": [],
   "source": [
    "# Breaking out fastest average mile pace during run by length.\n",
    "wos"
   ]
  },
  {
   "cell_type": "code",
   "execution_count": null,
   "metadata": {},
   "outputs": [],
   "source": [
    "# Tracking fastest mile time over number of runs.\n",
    "plt.plot(wos[0.5])"
   ]
  },
  {
   "cell_type": "code",
   "execution_count": null,
   "metadata": {
    "scrolled": false
   },
   "outputs": [],
   "source": [
    "# Looking at how pace changed during each run. \n",
    "for path in paths:\n",
    "    with open('../data/raw/' + path) as f:\n",
    "        data = json.load(f)\n",
    "        \n",
    "    points = data['laps'][0]['points']\n",
    "    df = pd.DataFrame(points)\n",
    "    df.interpolate(method='linear', limit_direction='both', axis=0, inplace=True)\n",
    "    df['pace'] = df.time.diff(50)/df.dist.diff(50)*mile/60\n",
    "    plt.plot(df.pace)\n",
    "    plt.plot()\n",
    "    plt.show()\n",
    "    print(path[:10])"
   ]
  }
 ],
 "metadata": {
  "kernelspec": {
   "display_name": "Python 3",
   "language": "python",
   "name": "python3"
  },
  "language_info": {
   "codemirror_mode": {
    "name": "ipython",
    "version": 3
   },
   "file_extension": ".py",
   "mimetype": "text/x-python",
   "name": "python",
   "nbconvert_exporter": "python",
   "pygments_lexer": "ipython3",
   "version": "3.6.8"
  }
 },
 "nbformat": 4,
 "nbformat_minor": 2
}
